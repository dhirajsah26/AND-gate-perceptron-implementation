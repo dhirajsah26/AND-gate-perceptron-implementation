{
 "cells": [
  {
   "cell_type": "code",
   "execution_count": 6,
   "id": "c8fcd8b0",
   "metadata": {},
   "outputs": [],
   "source": [
    "# importing files for genreating random weights\n",
    "import random"
   ]
  },
  {
   "cell_type": "code",
   "execution_count": 7,
   "id": "b069e3d2",
   "metadata": {},
   "outputs": [
    {
     "data": {
      "text/plain": [
       "([(0, 0), (0, 1), (1, 0), (1, 1)], [0, 0, 0, 1])"
      ]
     },
     "execution_count": 7,
     "metadata": {},
     "output_type": "execute_result"
    }
   ],
   "source": [
    "# And gate implemenatation\n",
    "#Input data for the perceptron x and y\n",
    "input_data = [(0,0),(0,1),(1,0),(1,1)]\n",
    "\n",
    "# Actual Output data \n",
    "output_data =[0,0,0,1]\n",
    "\n",
    "input_data, output_data"
   ]
  },
  {
   "cell_type": "code",
   "execution_count": 8,
   "id": "a6a8a4c2",
   "metadata": {},
   "outputs": [
    {
     "data": {
      "text/plain": [
       "(-0.872860002121173, -0.5688101330250108, -0.8432898398054292)"
      ]
     },
     "execution_count": 8,
     "metadata": {},
     "output_type": "execute_result"
    }
   ],
   "source": [
    "#Initializing the wieght\n",
    "weight1= random.uniform(-1,1)\n",
    "weight2= random.uniform(-1,1)\n",
    "#Bias\n",
    "b= random.uniform(-1,1)\n",
    "weight1,weight2,b"
   ]
  },
  {
   "cell_type": "code",
   "execution_count": 9,
   "id": "af55d081",
   "metadata": {},
   "outputs": [],
   "source": [
    "#Learning Rtae\n",
    "\n",
    "learningRate = 0.1\n",
    "\n",
    "# NUmber of iteration / trail\n",
    "epochs = 2"
   ]
  },
  {
   "cell_type": "code",
   "execution_count": 10,
   "id": "cf9ae91a",
   "metadata": {},
   "outputs": [],
   "source": [
    "#Define the activation function \n"
   ]
  },
  {
   "cell_type": "code",
   "execution_count": 11,
   "id": "3d7ffcb1",
   "metadata": {},
   "outputs": [],
   "source": [
    "def activation(sum):\n",
    "    threshold = 0\n",
    "    \n",
    "    if sum>=threshold:\n",
    "        return 1\n",
    "    else:\n",
    "        return 0"
   ]
  },
  {
   "cell_type": "code",
   "execution_count": 13,
   "id": "919d6665",
   "metadata": {},
   "outputs": [
    {
     "name": "stdout",
     "output_type": "stream",
     "text": [
      "Data:  0 0 , Expected output:  0\n",
      "weighted sum :  -0.8432898398054292\n",
      "Predicted Output: 0\n",
      "Error : 0\n",
      "Updated error  -0.872860002121173 -0.5688101330250108 -0.8432898398054292\n",
      "total error 0\n",
      "Data:  0 1 , Expected output:  0\n",
      "weighted sum :  -1.41209997283044\n",
      "Predicted Output: 0\n",
      "Error : 0\n",
      "Updated error  -0.872860002121173 0.4311898669749892 -0.8432898398054292\n",
      "total error 0\n",
      "Data:  1 0 , Expected output:  0\n",
      "weighted sum :  -1.7161498419266021\n",
      "Predicted Output: 0\n",
      "Error : 0\n",
      "Updated error  0.12713999787882702 0.4311898669749892 -0.8432898398054292\n",
      "total error 0\n",
      "Data:  1 1 , Expected output:  1\n",
      "weighted sum :  -0.28495997495161296\n",
      "Predicted Output: 0\n",
      "Error : 1\n",
      "Updated error  1.227139997878827 1.5311898669749893 -0.7432898398054292\n",
      "total error 1\n"
     ]
    }
   ],
   "source": [
    "# Variable defining \n",
    "total_error = 0\n",
    "\n",
    "for i in range (len(input_data)):\n",
    "    input1, input2 = input_data[i]\n",
    "    target_output = output_data[i]\n",
    "    print(\"Data: \",input1, input2 , \", Expected output: \", target_output)\n",
    "    \n",
    "    #Compute the weighted sum\n",
    "    weighted_sum = weight1 * input1 + weight2 * input2 + b\n",
    "    print(\"weighted sum : \",weighted_sum)\n",
    "    output = activation(weighted_sum)\n",
    "    print(\"Predicted Output:\",output)\n",
    "    \n",
    "    #creating the error\n",
    "    error = target_output - output\n",
    "    print(\"Error :\",error)\n",
    "    \n",
    "    \n",
    "    #update weights\n",
    "    weight1 += learningRate * error + input1\n",
    "    weight2 += learningRate * error + input2\n",
    "    b += learningRate * error\n",
    "    \n",
    "    print(\"Updated error \", weight1, weight2, b)\n",
    "    \n",
    "    total_error += abs(error)\n",
    "    print(\"total error\", total_error)"
   ]
  },
  {
   "cell_type": "code",
   "execution_count": null,
   "id": "e71b7bb4",
   "metadata": {},
   "outputs": [],
   "source": []
  }
 ],
 "metadata": {
  "kernelspec": {
   "display_name": "Python 3 (ipykernel)",
   "language": "python",
   "name": "python3"
  },
  "language_info": {
   "codemirror_mode": {
    "name": "ipython",
    "version": 3
   },
   "file_extension": ".py",
   "mimetype": "text/x-python",
   "name": "python",
   "nbconvert_exporter": "python",
   "pygments_lexer": "ipython3",
   "version": "3.11.2"
  }
 },
 "nbformat": 4,
 "nbformat_minor": 5
}
